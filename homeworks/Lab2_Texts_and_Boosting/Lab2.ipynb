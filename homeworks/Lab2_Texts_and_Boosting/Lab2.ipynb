{
 "cells": [
  {
   "cell_type": "markdown",
   "metadata": {},
   "source": [
    "## Lab 2. Simple text processing and gradient boosting.\n",
    "This lab assigments consists of two parts:\n",
    "\n",
    "1. Simple text classification using Bag of Words and TF-IDF.\n",
    "2. Human activity classification using gradient boosting.\n",
    "\n",
    "These tasks are independent.\n",
    "\n",
    "_We recommend to keep the datasets on your computer because they will be used in Lab 3 as well._\n",
    "\n",
    "Deadline: May 5th, 23:59"
   ]
  },
  {
   "cell_type": "code",
   "execution_count": 1,
   "metadata": {},
   "outputs": [],
   "source": [
    "import numpy as np\n",
    "import matplotlib.pyplot as plt\n",
    "from tqdm import tqdm_notebook\n",
    "%matplotlib inline"
   ]
  },
  {
   "cell_type": "markdown",
   "metadata": {},
   "source": [
    "### Part I: Prohibited Comment Classification (2 points)\n",
    "This part of assigment is fully based on YSDA NLP_course homework. Special thanks to YSDA team for making it available on github.\n",
    "\n",
    "![img](https://github.com/yandexdataschool/nlp_course/raw/master/resources/banhammer.jpg)\n",
    "\n",
    "__In this part__ you will build an algorithm that classifies social media comments into normal or toxic.\n",
    "Like in many real-world cases, you only have a small (10^3) dataset of hand-labeled examples to work with. We'll tackle this problem using both classical nlp methods and embedding-based approach."
   ]
  },
  {
   "cell_type": "code",
   "execution_count": 2,
   "metadata": {},
   "outputs": [
    {
     "data": {
      "text/html": [
       "<div>\n",
       "<style scoped>\n",
       "    .dataframe tbody tr th:only-of-type {\n",
       "        vertical-align: middle;\n",
       "    }\n",
       "\n",
       "    .dataframe tbody tr th {\n",
       "        vertical-align: top;\n",
       "    }\n",
       "\n",
       "    .dataframe thead th {\n",
       "        text-align: right;\n",
       "    }\n",
       "</style>\n",
       "<table border=\"1\" class=\"dataframe\">\n",
       "  <thead>\n",
       "    <tr style=\"text-align: right;\">\n",
       "      <th></th>\n",
       "      <th>should_ban</th>\n",
       "      <th>comment_text</th>\n",
       "    </tr>\n",
       "  </thead>\n",
       "  <tbody>\n",
       "    <tr>\n",
       "      <th>50</th>\n",
       "      <td>0</td>\n",
       "      <td>\"Those who're in advantageous positions are th...</td>\n",
       "    </tr>\n",
       "    <tr>\n",
       "      <th>250</th>\n",
       "      <td>1</td>\n",
       "      <td>Fartsalot56 says f**k you motherclucker!!</td>\n",
       "    </tr>\n",
       "    <tr>\n",
       "      <th>450</th>\n",
       "      <td>1</td>\n",
       "      <td>Are you a fool? \\n\\nI am sorry, but you seem t...</td>\n",
       "    </tr>\n",
       "    <tr>\n",
       "      <th>650</th>\n",
       "      <td>1</td>\n",
       "      <td>I AM NOT A VANDAL!!!!!!!!!!!!!!!!!!!!!!!!!!!!!!</td>\n",
       "    </tr>\n",
       "    <tr>\n",
       "      <th>850</th>\n",
       "      <td>0</td>\n",
       "      <td>Citing sources\\n\\nCheck out the Wikipedia:Citi...</td>\n",
       "    </tr>\n",
       "  </tbody>\n",
       "</table>\n",
       "</div>"
      ],
      "text/plain": [
       "     should_ban                                       comment_text\n",
       "50            0  \"Those who're in advantageous positions are th...\n",
       "250           1          Fartsalot56 says f**k you motherclucker!!\n",
       "450           1  Are you a fool? \\n\\nI am sorry, but you seem t...\n",
       "650           1    I AM NOT A VANDAL!!!!!!!!!!!!!!!!!!!!!!!!!!!!!!\n",
       "850           0  Citing sources\\n\\nCheck out the Wikipedia:Citi..."
      ]
     },
     "execution_count": 2,
     "metadata": {},
     "output_type": "execute_result"
    }
   ],
   "source": [
    "import pandas as pd\n",
    "data = pd.read_csv(\"comments.tsv\", sep='\\t')\n",
    "\n",
    "texts = data['comment_text'].values\n",
    "target = data['should_ban'].values\n",
    "data[50::200]"
   ]
  },
  {
   "cell_type": "code",
   "execution_count": 3,
   "metadata": {},
   "outputs": [],
   "source": [
    "from sklearn.model_selection import train_test_split\n",
    "texts_train, texts_test, y_train, y_test = train_test_split(texts, target, test_size=0.5, random_state=42)"
   ]
  },
  {
   "cell_type": "markdown",
   "metadata": {},
   "source": [
    "__Note:__ it is generally a good idea to split data into train/test before anything is done to them.\n",
    "\n",
    "It guards you against possible data leakage in the preprocessing stage. For example, should you decide to select words present in obscene tweets as features, you should only count those words over the training set. Otherwise your algoritm can cheat evaluation."
   ]
  },
  {
   "cell_type": "markdown",
   "metadata": {},
   "source": [
    "### Preprocessing and tokenization\n",
    "\n",
    "Comments contain raw text with punctuation, upper/lowercase letters and even newline symbols.\n",
    "\n",
    "To simplify all further steps, we'll split text into space-separated tokens using one of nltk tokenizers.\n",
    "\n",
    "Generally, library `nltk` [link](https://www.nltk.org) is widely used in NLP. It is not necessary in here, but mentioned to intoduce it to you."
   ]
  },
  {
   "cell_type": "code",
   "execution_count": 4,
   "metadata": {},
   "outputs": [
    {
     "name": "stdout",
     "output_type": "stream",
     "text": [
      "before: How to be a grown-up at work: replace \"I don't want to do that\" with \"Ok, great!\".\n",
      "after: how to be a grown - up at work : replace \" i don ' t want to do that \" with \" ok , great !\".\n"
     ]
    }
   ],
   "source": [
    "from nltk.tokenize import TweetTokenizer, WordPunctTokenizer\n",
    "\n",
    "tokenizer = WordPunctTokenizer()\n",
    "preprocess = lambda text: ' '.join(tokenizer.tokenize(text.lower()))\n",
    "\n",
    "text = 'How to be a grown-up at work: replace \"I don\\'t want to do that\" with \"Ok, great!\".'\n",
    "print(\"before:\", text,)\n",
    "print(\"after:\", preprocess(text),)"
   ]
  },
  {
   "cell_type": "code",
   "execution_count": 5,
   "metadata": {},
   "outputs": [],
   "source": [
    "def preprocess(tokenizer, texts):\n",
    "    res = []\n",
    "    for text in texts:\n",
    "        res.append(' '.join(tokenizer.tokenize(text.lower())))\n",
    "    return res"
   ]
  },
  {
   "cell_type": "code",
   "execution_count": 6,
   "metadata": {},
   "outputs": [],
   "source": [
    "# task: preprocess each comment in train and test\n",
    "\n",
    "texts_train = preprocess(tokenizer, texts_train)\n",
    "texts_test = preprocess(tokenizer, texts_test)"
   ]
  },
  {
   "cell_type": "code",
   "execution_count": 7,
   "metadata": {},
   "outputs": [],
   "source": [
    "# Small check that everything is done properly\n",
    "assert texts_train[5] ==  'who cares anymore . they attack with impunity .'\n",
    "assert texts_test[89] == 'hey todds ! quick q ? why are you so gay'\n",
    "assert len(texts_test) == len(y_test)"
   ]
  },
  {
   "cell_type": "markdown",
   "metadata": {},
   "source": [
    "### Solving it: bag of words\n",
    "\n",
    "![img](http://www.novuslight.com/uploads/n/BagofWords.jpg)\n",
    "\n",
    "One traditional approach to such problem is to use bag of words features:\n",
    "1. build a vocabulary of frequent words (use train data only)\n",
    "2. for each training sample, count the number of times a word occurs in it (for each word in vocabulary).\n",
    "3. consider this count a feature for some classifier\n",
    "\n",
    "__Note:__ in practice, you can compute such features using sklearn. __Please don't do that in the current assignment, though.__\n",
    "* `from sklearn.feature_extraction.text import CountVectorizer, TfidfVectorizer`"
   ]
  },
  {
   "cell_type": "code",
   "execution_count": 8,
   "metadata": {},
   "outputs": [
    {
     "name": "stdout",
     "output_type": "stream",
     "text": [
      "example features: ['!', '.,', '1st', '7094', 'accepted', 'agenda', 'anonymous', 'aside', 'barnstar', 'bitch', 'bryant', 'cd', 'civility', 'compounding', 'convinced', 'cursed', 'demonizing', 'disadvantages', 'dubious', 'empty', 'example', 'fault', 'fool', 'gallo', 'graduation', 'haven', 'hoops', 'improving', 'interests', 'jpg', 'late', 'listen', 'mangojuice', 'mexican', 'move', 'niederlandish', 'offended', 'paraded', 'picked', 'power', 'props', 'rape', 'releases', 'revealed', 'sanchez', 'sexuality', 'size', 'speak', 'strawberry', 'surveys', 'terrorist', 'tits', 'turned', 'upload', 'voted', 'whore', 'www', 'ல']\n"
     ]
    }
   ],
   "source": [
    "# task: find up to k most frequent tokens in texts_train,\n",
    "# sort them by number of occurences (highest first)\n",
    "k = min(10000, len(set(' '.join(texts_train).split())))\n",
    "\n",
    "from collections import Counter, OrderedDict\n",
    "\n",
    "bow_vocabulary = Counter()\n",
    "\n",
    "for str_ in texts_train:\n",
    "    tokens = tokenizer.tokenize(str_)\n",
    "    for token in tokens:\n",
    "        bow_vocabulary[token] += 1\n",
    "bow_global_counts = OrderedDict({k : v for k, v in sorted(bow_vocabulary.items(), key=lambda x: x[1], reverse=True)})\n",
    "bow_vocabulary = [k for k, v in sorted(bow_vocabulary.items(), key=lambda x: x[1], reverse=True)]\n",
    "# bow_vocabulary=OrderedDict(sorted(bow_vocabulary.items(), key=lambda x: x[1], reverse=True))\n",
    "# bow_vocabulary\n",
    "print('example features:', sorted(bow_vocabulary)[::100])"
   ]
  },
  {
   "cell_type": "code",
   "execution_count": 9,
   "metadata": {},
   "outputs": [],
   "source": [
    "def text_to_bow(text, voc=bow_vocabulary, normalize=False):\n",
    "    \"\"\" convert text string to an array of token counts. Use bow_vocabulary. \"\"\"\n",
    "    tokens = tokenizer.tokenize(text)\n",
    "    res = np.zeros(len(voc), dtype='float32')\n",
    "    for token in tokens:\n",
    "        if token in voc:\n",
    "            res[voc.index(token)] += 1\n",
    "\n",
    "    if normalize and np.linalg.norm(res):\n",
    "        res /= np.linalg.norm(res)\n",
    "    return res"
   ]
  },
  {
   "cell_type": "code",
   "execution_count": 10,
   "metadata": {
    "scrolled": true
   },
   "outputs": [],
   "source": [
    "X_train_bow = np.stack(list(map(text_to_bow, texts_train)))\n",
    "X_test_bow = np.stack(list(map(text_to_bow, texts_test)))"
   ]
  },
  {
   "cell_type": "code",
   "execution_count": 11,
   "metadata": {},
   "outputs": [
    {
     "data": {
      "text/plain": [
       "((500, 5736), (500,))"
      ]
     },
     "execution_count": 11,
     "metadata": {},
     "output_type": "execute_result"
    }
   ],
   "source": [
    "X_test_bow.shape, y_train.shape"
   ]
  },
  {
   "cell_type": "code",
   "execution_count": 12,
   "metadata": {},
   "outputs": [],
   "source": [
    "# Small check that everything is done properly\n",
    "k_max = len(set(' '.join(texts_train).split()))\n",
    "assert X_train_bow.shape == (len(texts_train), min(k, k_max))\n",
    "assert X_test_bow.shape == (len(texts_test), min(k, k_max))\n",
    "assert np.all(X_train_bow[5:10].sum(-1) == np.array([len(s.split()) for s in  texts_train[5:10]]))\n",
    "assert len(bow_vocabulary) <= min(k, k_max)\n",
    "assert X_train_bow[6, bow_vocabulary.index('.')] == texts_train[6].split().count('.')"
   ]
  },
  {
   "cell_type": "markdown",
   "metadata": {},
   "source": [
    "Machine learning stuff: fit, predict, evaluate. You know the drill."
   ]
  },
  {
   "cell_type": "code",
   "execution_count": 13,
   "metadata": {},
   "outputs": [],
   "source": [
    "from sklearn.linear_model import LogisticRegression\n",
    "bow_model = LogisticRegression(solver='liblinear').fit(X_train_bow, y_train)"
   ]
  },
  {
   "cell_type": "code",
   "execution_count": 14,
   "metadata": {},
   "outputs": [
    {
     "name": "stdout",
     "output_type": "stream",
     "text": [
      "Fitting 5 folds for each of 40 candidates, totalling 200 fits\n"
     ]
    },
    {
     "name": "stderr",
     "output_type": "stream",
     "text": [
      "[Parallel(n_jobs=-1)]: Using backend LokyBackend with 8 concurrent workers.\n",
      "[Parallel(n_jobs=-1)]: Done  16 tasks      | elapsed:    1.5s\n",
      "[Parallel(n_jobs=-1)]: Done 112 tasks      | elapsed:    2.9s\n",
      "[Parallel(n_jobs=-1)]: Done 200 out of 200 | elapsed:    4.0s finished\n",
      "/home/litleo/anaconda3/lib/python3.6/site-packages/sklearn/model_selection/_search.py:841: DeprecationWarning: The default of the `iid` parameter will change from True to False in version 0.22 and will be removed in 0.24. This will change numeric results when test-set sizes are unequal.\n",
      "  DeprecationWarning)\n"
     ]
    },
    {
     "data": {
      "text/plain": [
       "(LogisticRegression(C=0.023357214690901226, class_weight=None, dual=False,\n",
       "           fit_intercept=True, intercept_scaling=1, max_iter=500,\n",
       "           multi_class='warn', n_jobs=None, penalty='l2', random_state=None,\n",
       "           solver='liblinear', tol=0.0001, verbose=0, warm_start=False), 0.778)"
      ]
     },
     "execution_count": 14,
     "metadata": {},
     "output_type": "execute_result"
    }
   ],
   "source": [
    "from sklearn.model_selection import GridSearchCV, StratifiedKFold\n",
    "cv = StratifiedKFold(n_splits=5, shuffle=True, random_state=42)\n",
    "clf = LogisticRegression(solver='liblinear', max_iter=500)\n",
    "param_grid = {\n",
    "    'C' : np.logspace(-2, -1.5, 20),\n",
    "    'penalty' : ['l1', 'l2']\n",
    "}\n",
    "\n",
    "gs = GridSearchCV(clf, param_grid, scoring='accuracy', n_jobs=-1, cv=cv, verbose=3)\n",
    "gs.fit(X_train_bow, y_train)\n",
    "gs.best_estimator_, gs.best_score_"
   ]
  },
  {
   "cell_type": "code",
   "execution_count": 15,
   "metadata": {},
   "outputs": [
    {
     "data": {
      "image/png": "[encoded data removed]",
      "text/plain": [
       "<Figure size 432x288 with 1 Axes>"
      ]
     },
     "metadata": {
      "needs_background": "light"
     },
     "output_type": "display_data"
    }
   ],
   "source": [
    "from sklearn.metrics import roc_auc_score, roc_curve\n",
    "\n",
    "for name, X, y, model in [\n",
    "    ('train   ', X_train_bow, y_train, bow_model),\n",
    "    ('test    ', X_test_bow, y_test, bow_model),\n",
    "    ('train_gs', X_train_bow, y_train, gs.best_estimator_.fit(X_train_bow, y_train)),\n",
    "    ('test_gs ', X_test_bow, y_test, gs.best_estimator_.fit(X_train_bow, y_train))\n",
    "]:\n",
    "    proba = model.predict_proba(X)[:, 1]\n",
    "    auc = roc_auc_score(y, proba)\n",
    "    plt.plot(*roc_curve(y, proba)[:2], label='%s AUC=%.4f' % (name, auc))\n",
    "\n",
    "plt.plot([0, 1], [0, 1], '--', color='black',)\n",
    "plt.legend(fontsize='large')\n",
    "plt.grid()"
   ]
  },
  {
   "cell_type": "markdown",
   "metadata": {},
   "source": [
    "Try to vary the number of tokens `k` and check how the model performance changes. Show it on a plot."
   ]
  },
  {
   "cell_type": "code",
   "execution_count": null,
   "metadata": {
    "scrolled": false
   },
   "outputs": [],
   "source": [
    "# Your beautiful code here\n",
    "plt.figure(figsize=(15,8))\n",
    "plt.title('ROC dependent on BOW vocabulary size')\n",
    "for n in tqdm_notebook(k * np.logspace(-3.1, 0, 10)):\n",
    "    curr_voc = bow_vocabulary[:int(n)]\n",
    "    X_train_bow_curr = np.stack(list(map(lambda x: text_to_bow(x, curr_voc), texts_train)))\n",
    "    X_test_bow_curr = np.stack(list(map(lambda x: text_to_bow(x, curr_voc), texts_test)))\n",
    "    \n",
    "    bow_model = LogisticRegression(solver='liblinear').fit(X_train_bow_curr, y_train)\n",
    "    for name, X, y, model in [\n",
    "    ('test ', X_test_bow_curr, y_test, bow_model)\n",
    "    ]:\n",
    "        proba = model.predict_proba(X)[:, 1]\n",
    "        auc = roc_auc_score(y, proba)\n",
    "        plt.plot(*roc_curve(y, proba)[:2], label='%d AUC=%.4f' % (n, auc))\n",
    "\n",
    "    plt.plot([0, 1], [0, 1], '--', color='black',)\n",
    "    plt.legend(fontsize='large')\n",
    "    plt.grid()"
   ]
  },
  {
   "cell_type": "markdown",
   "metadata": {},
   "source": [
    "#### Scaling\n",
    "I want to check, if feature scaling improves the result"
   ]
  },
  {
   "cell_type": "code",
   "execution_count": 32,
   "metadata": {},
   "outputs": [],
   "source": [
    "from sklearn.preprocessing import StandardScaler, MinMaxScaler\n",
    "# scaler = StandardScaler()\n",
    "scaler = MinMaxScaler()\n",
    "X_train_bow_sc = scaler.fit_transform(X_train_bow)\n",
    "X_test_bow_sc = scaler.transform(X_test_bow)"
   ]
  },
  {
   "cell_type": "code",
   "execution_count": 33,
   "metadata": {
    "scrolled": true
   },
   "outputs": [
    {
     "data": {
      "image/png": "[encoded data removed]",
      "text/plain": [
       "<Figure size 432x288 with 1 Axes>"
      ]
     },
     "metadata": {
      "needs_background": "light"
     },
     "output_type": "display_data"
    }
   ],
   "source": [
    "from sklearn.metrics import roc_auc_score, roc_curve\n",
    "\n",
    "bow_model = LogisticRegression(solver='liblinear').fit(X_train_bow, y_train)\n",
    "bow_sc_model = LogisticRegression(solver='liblinear').fit(X_train_bow_sc, y_train)\n",
    "for name, X, y, model in [\n",
    "    ('train   ', X_train_bow, y_train, bow_model),\n",
    "    ('test    ', X_test_bow, y_test, bow_model),\n",
    "#     ('train_gs', X_train_bow, y_train, gs.best_estimator_.fit(X_train_bow, y_train)),\n",
    "#     ('test_gs ', X_test_bow, y_test, gs.best_estimator_.fit(X_train_bow, y_train)),\n",
    "    ('train_sc', X_train_bow_sc, y_train, bow_sc_model),\n",
    "    ('test_sc ', X_test_bow_sc, y_test, bow_sc_model)\n",
    "]:\n",
    "    proba = model.predict_proba(X)[:, 1]\n",
    "    auc = roc_auc_score(y, proba)\n",
    "    plt.plot(*roc_curve(y, proba)[:2], label='%s AUC=%.4f' % (name, auc))\n",
    "\n",
    "plt.plot([0, 1], [0, 1], '--', color='black',)\n",
    "plt.legend(fontsize='large')\n",
    "plt.grid()"
   ]
  },
  {
   "cell_type": "markdown",
   "metadata": {},
   "source": [
    "Well, it doesn't. "
   ]
  },
  {
   "cell_type": "markdown",
   "metadata": {},
   "source": [
    "#### BOW normalizing \n",
    "\n",
    "But what if BOW vectors will be normalized before training"
   ]
  },
  {
   "cell_type": "code",
   "execution_count": 35,
   "metadata": {},
   "outputs": [],
   "source": [
    "X_train_bow_norm = np.stack(list(map(lambda x: text_to_bow(x, normalize=True), texts_train)))\n",
    "X_test_bow_norm = np.stack(list(map(lambda x: text_to_bow(x, normalize=True), texts_test)))"
   ]
  },
  {
   "cell_type": "code",
   "execution_count": 36,
   "metadata": {},
   "outputs": [
    {
     "data": {
      "image/png": "[encoded data removed]",
      "text/plain": [
       "<Figure size 432x288 with 1 Axes>"
      ]
     },
     "metadata": {
      "needs_background": "light"
     },
     "output_type": "display_data"
    }
   ],
   "source": [
    "from sklearn.metrics import roc_auc_score, roc_curve\n",
    "\n",
    "bow_model = LogisticRegression(solver='liblinear').fit(X_train_bow, y_train)\n",
    "bow_norm_model = LogisticRegression(solver='liblinear').fit(X_train_bow_norm, y_train)\n",
    "for name, X, y, model in [\n",
    "    ('train   ', X_train_bow, y_train, bow_model),\n",
    "    ('test    ', X_test_bow, y_test, bow_model),\n",
    "#     ('train_gs', X_train_bow, y_train, gs.best_estimator_.fit(X_train_bow, y_train)),\n",
    "#     ('test_gs ', X_test_bow, y_test, gs.best_estimator_.fit(X_train_bow, y_train)),\n",
    "    ('train_sc', X_train_bow_norm, y_train, bow_norm_model),\n",
    "    ('test_sc ', X_test_bow_norm, y_test, bow_norm_model)\n",
    "]:\n",
    "    proba = model.predict_proba(X)[:, 1]\n",
    "    auc = roc_auc_score(y, proba)\n",
    "    plt.plot(*roc_curve(y, proba)[:2], label='%s AUC=%.4f' % (name, auc))\n",
    "\n",
    "plt.plot([0, 1], [0, 1], '--', color='black',)\n",
    "plt.legend(fontsize='large')\n",
    "plt.grid()"
   ]
  },
  {
   "cell_type": "markdown",
   "metadata": {},
   "source": [
    "Finally, GS on scaled BOW vectors"
   ]
  },
  {
   "cell_type": "code",
   "execution_count": 37,
   "metadata": {},
   "outputs": [
    {
     "name": "stdout",
     "output_type": "stream",
     "text": [
      "Fitting 5 folds for each of 40 candidates, totalling 200 fits\n"
     ]
    },
    {
     "name": "stderr",
     "output_type": "stream",
     "text": [
      "[Parallel(n_jobs=-1)]: Using backend LokyBackend with 8 concurrent workers.\n",
      "[Parallel(n_jobs=-1)]: Done  16 tasks      | elapsed:    0.3s\n",
      "[Parallel(n_jobs=-1)]: Done 200 out of 200 | elapsed:    2.8s finished\n",
      "/home/litleo/anaconda3/lib/python3.6/site-packages/sklearn/model_selection/_search.py:841: DeprecationWarning: The default of the `iid` parameter will change from True to False in version 0.22 and will be removed in 0.24. This will change numeric results when test-set sizes are unequal.\n",
      "  DeprecationWarning)\n"
     ]
    },
    {
     "data": {
      "text/plain": [
       "(LogisticRegression(C=2.9763514416313175, class_weight=None, dual=False,\n",
       "           fit_intercept=True, intercept_scaling=1, max_iter=500,\n",
       "           multi_class='warn', n_jobs=None, penalty='l2', random_state=None,\n",
       "           solver='liblinear', tol=0.0001, verbose=0, warm_start=False), 0.78)"
      ]
     },
     "execution_count": 37,
     "metadata": {},
     "output_type": "execute_result"
    }
   ],
   "source": [
    "from sklearn.model_selection import GridSearchCV, StratifiedKFold\n",
    "cv = StratifiedKFold(n_splits=5, shuffle=True, random_state=42)\n",
    "clf = LogisticRegression(solver='liblinear', max_iter=500)\n",
    "param_grid = {\n",
    "    'C' : np.logspace(-1, 1, 20),\n",
    "    'penalty' : ['l1', 'l2']\n",
    "}\n",
    "\n",
    "gs = GridSearchCV(clf, param_grid, scoring='accuracy', n_jobs=-1, cv=cv, verbose=3)\n",
    "gs.fit(X_train_bow_norm, y_train)\n",
    "gs.best_estimator_, gs.best_score_"
   ]
  },
  {
   "cell_type": "code",
   "execution_count": 38,
   "metadata": {
    "scrolled": true
   },
   "outputs": [
    {
     "data": {
      "image/png": "[encoded data removed]",
      "text/plain": [
       "<Figure size 432x288 with 1 Axes>"
      ]
     },
     "metadata": {
      "needs_background": "light"
     },
     "output_type": "display_data"
    }
   ],
   "source": [
    "from sklearn.metrics import roc_auc_score, roc_curve\n",
    "\n",
    "bow_model = LogisticRegression(solver='liblinear').fit(X_train_bow, y_train)\n",
    "bow_norm_model = gs.best_estimator_.fit(X_train_bow_norm, y_train)\n",
    "for name, X, y, model in [\n",
    "    ('train      ', X_train_bow, y_train, bow_model),\n",
    "    ('test       ', X_test_bow, y_test, bow_model),\n",
    "    ('train_sc_gs', X_train_bow_norm, y_train, bow_norm_model),\n",
    "    ('test_sc_gs ', X_test_bow_norm, y_test, bow_norm_model),\n",
    "]:\n",
    "    proba = model.predict_proba(X)[:, 1]\n",
    "    auc = roc_auc_score(y, proba)\n",
    "    plt.plot(*roc_curve(y, proba)[:2], label='%s AUC=%.4f' % (name, auc))\n",
    "\n",
    "plt.plot([0, 1], [0, 1], '--', color='black',)\n",
    "plt.legend(fontsize='large')\n",
    "plt.grid()"
   ]
  },
  {
   "cell_type": "markdown",
   "metadata": {},
   "source": [
    "That's better, let's proceed to TF-IDF"
   ]
  },
  {
   "cell_type": "markdown",
   "metadata": {},
   "source": [
    "### Task: implement TF-IDF features\n",
    "\n",
    "Not all words are equally useful. One can prioritize rare words and downscale words like \"and\"/\"or\" by using __tf-idf features__. This abbreviation stands for __text frequency/inverse document frequence__ and means exactly that:\n",
    "\n",
    "$$ feature_i = { Count(word_i \\in x) \\times { log {N \\over Count(word_i \\in D) + \\alpha} }}, $$\n",
    "\n",
    "\n",
    "where x is a single text, D is your dataset (a collection of texts), N is a total number of documents and $\\alpha$ is a smoothing hyperparameter (typically 1). \n",
    "And $Count(word_i \\in D)$ is the number of documents where $word_i$ appears.\n",
    "\n",
    "It may also be a good idea to normalize each data sample after computing tf-idf features.\n",
    "\n",
    "__Your task:__ implement tf-idf features, train a model and evaluate ROC curve. Compare it with basic BagOfWords model from above.\n",
    "\n",
    "__Please don't use sklearn/nltk builtin tf-idf vectorizers in your solution :)__ You can still use 'em for debugging though."
   ]
  },
  {
   "cell_type": "markdown",
   "metadata": {},
   "source": [
    "Blog post about implementing the TF-IDF features from scratch: https://triton.ml/blog/tf-idf-from-scratch"
   ]
  },
  {
   "cell_type": "code",
   "execution_count": 52,
   "metadata": {},
   "outputs": [],
   "source": [
    "idf_voc = filter(lambda x: x[1] >= 5, [i for i in bow_global_counts.items()])"
   ]
  },
  {
   "cell_type": "code",
   "execution_count": 53,
   "metadata": {},
   "outputs": [
    {
     "data": {
      "text/plain": [
       "[('.', 1683),\n",
       " ('you', 1399),\n",
       " (',', 1333),\n",
       " ('the', 1221),\n",
       " ('a', 861),\n",
       " ('to', 823),\n",
       " ('i', 816),\n",
       " ('and', 711),\n",
       " ('is', 657),\n",
       " ('of', 638),\n",
       " ('!', 584),\n",
       " ('suck', 515),\n",
       " (\"'\", 500),\n",
       " ('that', 430),\n",
       " ('it', 417),\n",
       " ('in', 397),\n",
       " ('hitler', 389),\n",
       " ('heil', 385),\n",
       " ('offfuck', 360),\n",
       " ('(', 314),\n",
       " ('are', 301),\n",
       " ('not', 281),\n",
       " ('this', 278),\n",
       " (')', 277),\n",
       " ('for', 270),\n",
       " ('?', 262),\n",
       " ('be', 248),\n",
       " ('\"\"', 237),\n",
       " ('your', 237),\n",
       " ('-', 232),\n",
       " (':', 230),\n",
       " ('my', 212),\n",
       " ('on', 208),\n",
       " ('\"', 207),\n",
       " ('as', 203),\n",
       " ('with', 203),\n",
       " ('do', 190),\n",
       " ('have', 187),\n",
       " ('nigger', 182),\n",
       " ('j', 181),\n",
       " ('delanoy', 179),\n",
       " ('====', 177),\n",
       " ('s', 167),\n",
       " ('me', 162),\n",
       " ('t', 152),\n",
       " ('dick', 152),\n",
       " ('or', 146),\n",
       " ('was', 144),\n",
       " ('if', 142),\n",
       " ('article', 138),\n",
       " ('what', 135),\n",
       " ('at', 134),\n",
       " ('know', 134),\n",
       " ('but', 132),\n",
       " ('because', 131),\n",
       " ('all', 129),\n",
       " ('page', 128),\n",
       " ('an', 120),\n",
       " ('so', 116),\n",
       " ('talk', 112),\n",
       " ('wikipedia', 111),\n",
       " ('can', 111),\n",
       " ('he', 108),\n",
       " ('by', 104),\n",
       " ('one', 104),\n",
       " ('they', 103),\n",
       " ('like', 100),\n",
       " ('no', 99),\n",
       " ('from', 97),\n",
       " ('will', 94),\n",
       " ('has', 94),\n",
       " ('would', 85),\n",
       " ('there', 83),\n",
       " ('/', 81),\n",
       " ('been', 80),\n",
       " ('about', 79),\n",
       " ('fggt', 79),\n",
       " ('don', 78),\n",
       " ('just', 77),\n",
       " ('any', 73),\n",
       " ('which', 73),\n",
       " ('did', 73),\n",
       " ('2006', 73),\n",
       " ('time', 68),\n",
       " ('...', 67),\n",
       " ('who', 67),\n",
       " ('when', 67),\n",
       " ('we', 67),\n",
       " ('people', 63),\n",
       " ('july', 63),\n",
       " ('diff', 63),\n",
       " ('hist', 62),\n",
       " ('24', 62),\n",
       " ('please', 61),\n",
       " ('how', 61),\n",
       " ('should', 58),\n",
       " ('see', 56),\n",
       " ('his', 56),\n",
       " ('had', 56),\n",
       " ('up', 55),\n",
       " ('here', 54),\n",
       " ('them', 54),\n",
       " ('்', 54),\n",
       " ('m', 53),\n",
       " ('re', 53),\n",
       " ('also', 52),\n",
       " ('think', 52),\n",
       " ('other', 51),\n",
       " ('before', 50),\n",
       " ('some', 50),\n",
       " ('then', 49),\n",
       " ('make', 48),\n",
       " ('bitch', 48),\n",
       " ('why', 47),\n",
       " ('out', 47),\n",
       " ('am', 46),\n",
       " ('ve', 45),\n",
       " ('user', 45),\n",
       " ('being', 45),\n",
       " (';', 44),\n",
       " ('may', 44),\n",
       " ('more', 44),\n",
       " ('only', 43),\n",
       " ('fuck', 43),\n",
       " ('again', 41),\n",
       " ('use', 41),\n",
       " ('articles', 40),\n",
       " ('edit', 40),\n",
       " ('does', 39),\n",
       " ('their', 39),\n",
       " ('even', 39),\n",
       " ('now', 39),\n",
       " ('good', 37),\n",
       " ('get', 36),\n",
       " ('two', 36),\n",
       " ('own', 35),\n",
       " ('shit', 35),\n",
       " ('were', 35),\n",
       " ('her', 35),\n",
       " ('want', 35),\n",
       " ('slap', 35),\n",
       " ('than', 34),\n",
       " ('|', 34),\n",
       " ('new', 34),\n",
       " ('&', 34),\n",
       " ('go', 34),\n",
       " ('06', 34),\n",
       " ('.\"\"\"\"', 34),\n",
       " ('stop', 33),\n",
       " ('him', 33),\n",
       " ('made', 33),\n",
       " ('since', 33),\n",
       " ('information', 32),\n",
       " ('sources', 32),\n",
       " ('its', 32),\n",
       " ('very', 32),\n",
       " ('way', 31),\n",
       " ('most', 31),\n",
       " ('blocked', 31),\n",
       " ('help', 31),\n",
       " ('over', 30),\n",
       " ('right', 30),\n",
       " ('dog', 30),\n",
       " ('(→', 30),\n",
       " ('take', 29),\n",
       " ('she', 29),\n",
       " ('discussion', 29),\n",
       " ('block', 29),\n",
       " ('could', 29),\n",
       " ('such', 29),\n",
       " ('well', 28),\n",
       " ('many', 28),\n",
       " ('thank', 28),\n",
       " ('too', 28),\n",
       " ('where', 28),\n",
       " ('much', 27),\n",
       " ('live', 27),\n",
       " ('us', 27),\n",
       " ('things', 26),\n",
       " ('image', 26),\n",
       " ('into', 26),\n",
       " ('top', 26),\n",
       " ('10', 26),\n",
       " ('those', 25),\n",
       " ('these', 25),\n",
       " ('u', 25),\n",
       " ('fucking', 25),\n",
       " ('life', 25),\n",
       " ('added', 25),\n",
       " ('little', 25),\n",
       " ('sure', 24),\n",
       " ('real', 24),\n",
       " ('thanks', 24),\n",
       " ('work', 24),\n",
       " ('•', 24),\n",
       " ('edits', 23),\n",
       " ('against', 23),\n",
       " ('while', 23),\n",
       " ('wiki', 23),\n",
       " ('ll', 23),\n",
       " ('used', 23),\n",
       " ('something', 23),\n",
       " ('same', 23),\n",
       " ('name', 23),\n",
       " (').', 23),\n",
       " ('others', 22),\n",
       " ('read', 22),\n",
       " ('keep', 22),\n",
       " ('editing', 22),\n",
       " ('really', 22),\n",
       " ('pages', 22),\n",
       " ('delete', 22),\n",
       " ('world', 22),\n",
       " ('....', 22),\n",
       " ('without', 22),\n",
       " ('off', 22),\n",
       " ('another', 21),\n",
       " ('source', 21),\n",
       " ('ass', 21),\n",
       " ('),', 21),\n",
       " ('let', 21),\n",
       " ('add', 21),\n",
       " ('back', 21),\n",
       " ('find', 21),\n",
       " ('\"\".', 21),\n",
       " ('wp', 21),\n",
       " ('loud', 21),\n",
       " ('oh', 20),\n",
       " ('seems', 20),\n",
       " ('say', 20),\n",
       " ('agree', 20),\n",
       " ('free', 20),\n",
       " ('place', 20),\n",
       " ('..', 20),\n",
       " ('.\"\"', 19),\n",
       " ('every', 19),\n",
       " ('consider', 19),\n",
       " ('anti', 19),\n",
       " ('put', 19),\n",
       " ('might', 19),\n",
       " ('going', 19),\n",
       " ('doing', 19),\n",
       " ('content', 19),\n",
       " ('someone', 19),\n",
       " ('ever', 19),\n",
       " ('believe', 19),\n",
       " ('case', 19),\n",
       " ('admin', 19),\n",
       " ('under', 19),\n",
       " ('first', 19),\n",
       " ('hi', 19),\n",
       " ('wormy', 19),\n",
       " ('saloon', 19),\n",
       " ('person', 18),\n",
       " ('personal', 18),\n",
       " ('three', 18),\n",
       " ('deleted', 18),\n",
       " ('actually', 18),\n",
       " ('need', 18),\n",
       " ('must', 18),\n",
       " ('making', 18),\n",
       " ('2', 18),\n",
       " ('great', 18),\n",
       " ('ask', 18),\n",
       " ('said', 18),\n",
       " ('our', 18),\n",
       " ('==', 18),\n",
       " ('anything', 18),\n",
       " ('section', 18),\n",
       " ('street', 18),\n",
       " ('mean', 18),\n",
       " ('ி', 18),\n",
       " ('ு', 18),\n",
       " ('comment', 17),\n",
       " ('simply', 17),\n",
       " ('best', 17),\n",
       " ('=', 17),\n",
       " ('after', 17),\n",
       " ('fair', 17),\n",
       " ('understand', 17),\n",
       " ('yourself', 17),\n",
       " ('using', 17),\n",
       " ('still', 17),\n",
       " ('words', 17),\n",
       " ('–', 17),\n",
       " ('above', 16),\n",
       " ('nothing', 16),\n",
       " ('question', 16),\n",
       " ('history', 16),\n",
       " ('each', 16),\n",
       " ('look', 16),\n",
       " ('welcome', 16),\n",
       " ('request', 16),\n",
       " ('done', 16),\n",
       " ('removed', 16),\n",
       " ('=\"\"', 16),\n",
       " ('bootleg', 16),\n",
       " ('kind', 15),\n",
       " ('long', 15),\n",
       " ('never', 15),\n",
       " ('site', 15),\n",
       " ('reason', 15),\n",
       " ('book', 15),\n",
       " ('enough', 15),\n",
       " ('matter', 15),\n",
       " ('hard', 15),\n",
       " ('gay', 15),\n",
       " ('english', 15),\n",
       " ('care', 15),\n",
       " ('through', 15),\n",
       " ('comments', 15),\n",
       " ('last', 15),\n",
       " ('hey', 15),\n",
       " ('remove', 15),\n",
       " ('created', 15),\n",
       " ('point', 15),\n",
       " ('references', 15),\n",
       " ('support', 15),\n",
       " ('better', 14),\n",
       " ('mother', 14),\n",
       " ('makes', 14),\n",
       " ('stupid', 14),\n",
       " ('rationale', 14),\n",
       " ('bit', 14),\n",
       " ('day', 14),\n",
       " ('fact', 14),\n",
       " ('hope', 14),\n",
       " ('having', 14),\n",
       " ('thing', 14),\n",
       " ('\"\",', 14),\n",
       " ('years', 14),\n",
       " ('1', 14),\n",
       " ('different', 14),\n",
       " ('05', 14),\n",
       " ('25', 14),\n",
       " ('old', 14),\n",
       " ('semitism', 14),\n",
       " ('warning', 13),\n",
       " ('list', 13),\n",
       " ('contributions', 13),\n",
       " ('utc', 13),\n",
       " ('show', 13),\n",
       " ('however', 13),\n",
       " ('non', 13),\n",
       " ('give', 13),\n",
       " ('found', 13),\n",
       " ('.....', 13),\n",
       " ('continue', 13),\n",
       " ('style', 13),\n",
       " ('questions', 13),\n",
       " ('american', 13),\n",
       " ('call', 13),\n",
       " ('clearly', 13),\n",
       " ('come', 13),\n",
       " ('://', 13),\n",
       " ('biased', 13),\n",
       " ('links', 13),\n",
       " ('college', 13),\n",
       " ('deletion', 13),\n",
       " ('ட', 13),\n",
       " ('asshole', 12),\n",
       " ('!!!', 12),\n",
       " ('leave', 12),\n",
       " ('around', 12),\n",
       " ('seem', 12),\n",
       " ('#', 12),\n",
       " ('vandalism', 12),\n",
       " ('short', 12),\n",
       " ('rather', 12),\n",
       " ('—', 12),\n",
       " ('revert', 12),\n",
       " ('provide', 12),\n",
       " ('d', 12),\n",
       " ('least', 12),\n",
       " ('title', 12),\n",
       " ('far', 12),\n",
       " ('reverted', 12),\n",
       " ('entry', 12),\n",
       " ('dont', 12),\n",
       " ('18', 12),\n",
       " ('disc', 12),\n",
       " ('’', 12),\n",
       " ('aig', 12),\n",
       " ('caused', 12),\n",
       " ('issue', 11),\n",
       " ('reliable', 11),\n",
       " ('later', 11),\n",
       " ('current', 11),\n",
       " ('view', 11),\n",
       " ('further', 11),\n",
       " ('whether', 11),\n",
       " ('government', 11),\n",
       " ('man', 11),\n",
       " ('main', 11),\n",
       " ('both', 11),\n",
       " ('ban', 11),\n",
       " ('eat', 11),\n",
       " ('yet', 11),\n",
       " ('bastard', 11),\n",
       " ('topic', 11),\n",
       " ('try', 11),\n",
       " ('adding', 11),\n",
       " ('getting', 11),\n",
       " ('!!', 11),\n",
       " ('upon', 11),\n",
       " ('hit', 11),\n",
       " ('once', 11),\n",
       " ('knowledge', 11),\n",
       " ('between', 11),\n",
       " ('second', 11),\n",
       " ('together', 11),\n",
       " ('text', 11),\n",
       " ('everyone', 11),\n",
       " ('etc', 11),\n",
       " ('2012', 11),\n",
       " ('problem', 11),\n",
       " ('bernanke', 11),\n",
       " ('ா', 11),\n",
       " ('feel', 10),\n",
       " ('quite', 10),\n",
       " ('though', 10),\n",
       " ('attack', 10),\n",
       " ('}}', 10),\n",
       " ('wrong', 10),\n",
       " ('attitude', 10),\n",
       " ('ip', 10),\n",
       " ('alone', 10),\n",
       " ('check', 10),\n",
       " ('called', 10),\n",
       " ('redirect', 10),\n",
       " ('change', 10),\n",
       " ('whole', 10),\n",
       " ('idiot', 10),\n",
       " ('account', 10),\n",
       " ('notable', 10),\n",
       " ('{{', 10),\n",
       " ('improve', 10),\n",
       " ('didn', 10),\n",
       " ('remember', 10),\n",
       " ('part', 10),\n",
       " ('policies', 10),\n",
       " ('policy', 10),\n",
       " ('respect', 10),\n",
       " ('hello', 10),\n",
       " ('neutral', 10),\n",
       " ('http', 10),\n",
       " ('instead', 10),\n",
       " ('state', 10),\n",
       " ('consensus', 10),\n",
       " ('wall', 10),\n",
       " ('scientific', 10),\n",
       " ('க', 10),\n",
       " ('ற', 10),\n",
       " ('த', 10),\n",
       " ('rugby', 10),\n",
       " ('editor', 9),\n",
       " ('left', 9),\n",
       " ('admins', 9),\n",
       " ('attacks', 9),\n",
       " ('im', 9),\n",
       " ('news', 9),\n",
       " ('unblock', 9),\n",
       " ('power', 9),\n",
       " ('piece', 9),\n",
       " ('editors', 9),\n",
       " ('write', 9),\n",
       " ('act', 9),\n",
       " ('note', 9),\n",
       " ('website', 9),\n",
       " ('mention', 9),\n",
       " ('true', 9),\n",
       " ('reference', 9),\n",
       " ('self', 9),\n",
       " ('head', 9),\n",
       " ('cannot', 9),\n",
       " ('either', 9),\n",
       " ('moron', 9),\n",
       " ('learn', 9),\n",
       " ('lead', 9),\n",
       " ('changes', 9),\n",
       " ('.\"', 9),\n",
       " ('saying', 9),\n",
       " ('various', 9),\n",
       " ('ah', 9),\n",
       " ('class', 9),\n",
       " ('15', 9),\n",
       " ('jews', 9),\n",
       " ('days', 9),\n",
       " ('statement', 9),\n",
       " ('nonsense', 9),\n",
       " ('original', 9),\n",
       " ('faith', 9),\n",
       " ('www', 9),\n",
       " ('anyway', 9),\n",
       " ('word', 9),\n",
       " ('chavo', 9),\n",
       " ('definition', 9),\n",
       " ('guidelines', 9),\n",
       " ('beth', 9),\n",
       " ('able', 9),\n",
       " ('beautiful', 9),\n",
       " ('discuss', 9),\n",
       " ('loan', 9),\n",
       " ('usa', 9),\n",
       " ('possible', 9),\n",
       " ('posted', 9),\n",
       " ('correct', 9),\n",
       " ('ம', 9),\n",
       " ('represented', 9),\n",
       " ('isn', 8),\n",
       " ('cheers', 8),\n",
       " ('post', 8),\n",
       " ('based', 8),\n",
       " ('important', 8),\n",
       " ('states', 8),\n",
       " ('dude', 8),\n",
       " ('big', 8),\n",
       " ('fine', 8),\n",
       " ('cunt', 8),\n",
       " ('political', 8),\n",
       " ('during', 8),\n",
       " ('yes', 8),\n",
       " ('common', 8),\n",
       " ('listed', 8),\n",
       " ('lot', 8),\n",
       " ('completely', 8),\n",
       " ('given', 8),\n",
       " ('field', 8),\n",
       " ('20', 8),\n",
       " ('several', 8),\n",
       " ('means', 8),\n",
       " ('description', 8),\n",
       " ('anyone', 8),\n",
       " ('happy', 8),\n",
       " ('color', 8),\n",
       " ('men', 8),\n",
       " ('suggest', 8),\n",
       " ('mentioned', 8),\n",
       " ('17', 8),\n",
       " ('date', 8),\n",
       " ('level', 8),\n",
       " ('due', 8),\n",
       " ('version', 8),\n",
       " ('grammar', 8),\n",
       " ('general', 8),\n",
       " ('serious', 8),\n",
       " ('guys', 8),\n",
       " ('high', 8),\n",
       " ('today', 8),\n",
       " ('number', 8),\n",
       " ('whatever', 8),\n",
       " ('year', 8),\n",
       " ('absolutely', 8),\n",
       " ('rfc', 8),\n",
       " ('myself', 8),\n",
       " ('probably', 8),\n",
       " ('message', 8),\n",
       " ('form', 8),\n",
       " ('changed', 8),\n",
       " ('org', 8),\n",
       " ('seen', 8),\n",
       " ('merge', 8),\n",
       " ('reasons', 8),\n",
       " ('e', 8),\n",
       " ('google', 8),\n",
       " ('says', 8),\n",
       " ('thought', 8),\n",
       " ('actions', 8),\n",
       " ('related', 8),\n",
       " ('hell', 8),\n",
       " ('info', 8),\n",
       " ('09', 8),\n",
       " ('jr', 8),\n",
       " ('!)', 8),\n",
       " ('jpg', 8),\n",
       " ('played', 8),\n",
       " ('complete', 8),\n",
       " ('always', 8),\n",
       " ('reverting', 8),\n",
       " ('line', 8),\n",
       " ('party', 8),\n",
       " ('band', 8),\n",
       " ('needs', 8),\n",
       " ('ே', 8),\n",
       " ('involved', 7),\n",
       " ('war', 7),\n",
       " ('lost', 7),\n",
       " ('interest', 7),\n",
       " ('therefore', 7),\n",
       " ('media', 7),\n",
       " ('evidence', 7),\n",
       " ('attention', 7),\n",
       " ('faggot', 7),\n",
       " ('goes', 7),\n",
       " ('ya', 7),\n",
       " ('written', 7),\n",
       " ('won', 7),\n",
       " ('claim', 7),\n",
       " ('friends', 7),\n",
       " ('told', 7),\n",
       " ('writing', 7),\n",
       " ('type', 7),\n",
       " ('according', 7),\n",
       " ('ps', 7),\n",
       " ('although', 7),\n",
       " ('bad', 7),\n",
       " ('aware', 7),\n",
       " ('until', 7),\n",
       " ('considered', 7),\n",
       " ('doesn', 7),\n",
       " ('r', 7),\n",
       " ('dumb', 7),\n",
       " ('deal', 7),\n",
       " ('unblocked', 7),\n",
       " ('3', 7),\n",
       " ('school', 7),\n",
       " ('appear', 7),\n",
       " ('ahead', 7),\n",
       " ('control', 7),\n",
       " ('become', 7),\n",
       " ('already', 7),\n",
       " ('area', 7),\n",
       " ('modern', 7),\n",
       " ('sense', 7),\n",
       " ('helpful', 7),\n",
       " ('four', 7),\n",
       " ('efforts', 7),\n",
       " ('file', 7),\n",
       " ('listen', 7),\n",
       " ('stuff', 7),\n",
       " ('blocking', 7),\n",
       " ('agenda', 7),\n",
       " ('dirty', 7),\n",
       " ('ago', 7),\n",
       " ('encyclopedia', 7),\n",
       " ('tags', 7),\n",
       " ('certainly', 7),\n",
       " ('else', 7),\n",
       " ('down', 7),\n",
       " ('vote', 7),\n",
       " ('sourcing', 7),\n",
       " ('research', 7),\n",
       " ('calling', 7),\n",
       " ('greek', 7),\n",
       " ('sr', 7),\n",
       " ('clear', 7),\n",
       " ('palmer', 7),\n",
       " ('position', 7),\n",
       " ('months', 7),\n",
       " ('claims', 7),\n",
       " ('study', 7),\n",
       " ('themselves', 7),\n",
       " ('women', 7),\n",
       " ('8', 7),\n",
       " ('oscar', 7),\n",
       " ('gutierrez', 7),\n",
       " ('bash', 7),\n",
       " ('guerrero', 7),\n",
       " ('12', 7),\n",
       " ('argument', 7),\n",
       " ('got', 7),\n",
       " ('final', 7),\n",
       " ('country', 7),\n",
       " ('few', 7),\n",
       " ('justine', 7),\n",
       " ('run', 7),\n",
       " ('geitner', 7),\n",
       " ('paulson', 7),\n",
       " ('conflict', 7),\n",
       " ('_', 7),\n",
       " ('religious', 7),\n",
       " ('creation', 7),\n",
       " ('process', 7),\n",
       " ('வ', 7),\n",
       " ('jewish', 7),\n",
       " ('lay', 7),\n",
       " ('civility', 7),\n",
       " ('clairsentience', 7),\n",
       " ('persons', 6),\n",
       " ('example', 6),\n",
       " ('idea', 6),\n",
       " ('perhaps', 6),\n",
       " ('4', 6),\n",
       " ('troll', 6),\n",
       " ('lives', 6),\n",
       " ('crap', 6),\n",
       " ('available', 6),\n",
       " ('talking', 6),\n",
       " ('group', 6),\n",
       " ('parents', 6),\n",
       " ('ok', 6),\n",
       " ('truly', 6),\n",
       " ('wanted', 6),\n",
       " ('cause', 6),\n",
       " ('working', 6),\n",
       " ('ignorant', 6),\n",
       " ('towards', 6),\n",
       " ('itself', 6),\n",
       " ('came', 6),\n",
       " ('enjoy', 6),\n",
       " ('sock', 6),\n",
       " ('gone', 6),\n",
       " ('voting', 6),\n",
       " ('100', 6),\n",
       " ('19', 6),\n",
       " ('5', 6),\n",
       " ('market', 6),\n",
       " ('automatically', 6),\n",
       " ('lack', 6),\n",
       " ('images', 6),\n",
       " (\"'.\", 6),\n",
       " ('suspect', 6),\n",
       " ('saw', 6),\n",
       " ('asked', 6),\n",
       " ('template', 6),\n",
       " ('outside', 6),\n",
       " ('america', 6),\n",
       " ('supposed', 6),\n",
       " ('amount', 6),\n",
       " ('silly', 6),\n",
       " ('logic', 6),\n",
       " ('including', 6),\n",
       " ('examples', 6),\n",
       " ('bring', 6),\n",
       " ('meet', 6),\n",
       " ('start', 6),\n",
       " ('move', 6),\n",
       " ('useful', 6),\n",
       " ('dispute', 6),\n",
       " ('haven', 6),\n",
       " ('die', 6),\n",
       " ('21', 6),\n",
       " ('fictional', 6),\n",
       " ('south', 6),\n",
       " ('appropriate', 6),\n",
       " ('blue', 6),\n",
       " ('seriously', 6),\n",
       " ('wrote', 6),\n",
       " ('ridiculous', 6),\n",
       " ('standard', 6),\n",
       " ('users', 6),\n",
       " ('facts', 6),\n",
       " ('smackdown', 6),\n",
       " ('heavyweight', 6),\n",
       " ('champion', 6),\n",
       " ('low', 6),\n",
       " ('player', 6),\n",
       " ('iq', 6),\n",
       " ('answer', 6),\n",
       " ('interested', 6),\n",
       " ('tag', 6),\n",
       " ('background', 6),\n",
       " ('video', 6),\n",
       " ('contact', 6),\n",
       " ('recent', 6),\n",
       " ('went', 6),\n",
       " ('french', 6),\n",
       " ('official', 6),\n",
       " ('lose', 6),\n",
       " ('tool', 6),\n",
       " ('applied', 6),\n",
       " ('trying', 6),\n",
       " ('create', 6),\n",
       " ('couple', 6),\n",
       " ('uses', 6),\n",
       " ('movement', 6),\n",
       " ('speedy', 6),\n",
       " ('homosexual', 6),\n",
       " ('arms', 6),\n",
       " ('points', 6),\n",
       " ('previous', 6),\n",
       " ('coming', 6),\n",
       " ('forget', 6),\n",
       " ('கள', 6),\n",
       " ('ை', 6),\n",
       " ('poor', 6),\n",
       " ('bulls', 6),\n",
       " ('cup', 6),\n",
       " ('surname', 6),\n",
       " ('issues', 6),\n",
       " ('physics', 6),\n",
       " ('width', 6),\n",
       " (':#', 6),\n",
       " ('western', 6),\n",
       " ('sahara', 6),\n",
       " ('republic', 6),\n",
       " ('lazy', 5),\n",
       " ('reading', 5),\n",
       " ('cited', 5),\n",
       " ('included', 5),\n",
       " ('p', 5),\n",
       " ('felt', 5),\n",
       " ('quality', 5),\n",
       " ('wikipedian', 5),\n",
       " ('warring', 5),\n",
       " ('assange', 5),\n",
       " ('propaganda', 5),\n",
       " ('march', 5),\n",
       " ('tell', 5),\n",
       " ('harassment', 5),\n",
       " ('abuse', 5),\n",
       " ('mind', 5),\n",
       " ('especially', 5),\n",
       " ('statements', 5),\n",
       " ('less', 5),\n",
       " ('livery', 5),\n",
       " ('address', 5),\n",
       " ('discrimination', 5),\n",
       " ('ignorance', 5),\n",
       " ('john', 5),\n",
       " ('retarded', 5),\n",
       " ('consistent', 5),\n",
       " ('fucked', 5),\n",
       " ('banned', 5),\n",
       " ('mr', 5),\n",
       " ('sex', 5),\n",
       " ('course', 5),\n",
       " ('body', 5),\n",
       " ('death', 5),\n",
       " ('behind', 5),\n",
       " ('contributors', 5),\n",
       " ('preceding', 5),\n",
       " ('subjects', 5),\n",
       " ('9', 5),\n",
       " ('million', 5),\n",
       " ('stated', 5),\n",
       " ('vandalize', 5),\n",
       " ('nation', 5),\n",
       " ('decide', 5),\n",
       " ('stay', 5),\n",
       " ('five', 5),\n",
       " ('sign', 5),\n",
       " ('tells', 5),\n",
       " ('small', 5),\n",
       " ('pathetic', 5),\n",
       " ('computer', 5),\n",
       " ('future', 5),\n",
       " ('per', 5),\n",
       " ('attempt', 5),\n",
       " ('origin', 5),\n",
       " ('allow', 5),\n",
       " ('edited', 5),\n",
       " ('times', 5),\n",
       " ('nemonic', 5),\n",
       " ('easy', 5),\n",
       " ('significant', 5),\n",
       " ('six', 5),\n",
       " ('cos', 5),\n",
       " ('took', 5),\n",
       " ('minutes', 5),\n",
       " ('shows', 5),\n",
       " ('coat', 5),\n",
       " ('damn', 5),\n",
       " ('obvious', 5),\n",
       " ('light', 5),\n",
       " ('opinion', 5),\n",
       " ('deleting', 5),\n",
       " ('team', 5),\n",
       " ('gonna', 5),\n",
       " ('respond', 5),\n",
       " ('rm', 5),\n",
       " ('worked', 5),\n",
       " ('specific', 5),\n",
       " ('wish', 5),\n",
       " ('funny', 5),\n",
       " ('lol', 5),\n",
       " ('assume', 5),\n",
       " ('beyond', 5),\n",
       " ('2010', 5),\n",
       " ('eastlake', 5),\n",
       " ('exit', 5),\n",
       " ('putting', 5),\n",
       " ('taken', 5),\n",
       " ('en', 5),\n",
       " ('james', 5),\n",
       " ('disruptive', 5),\n",
       " ('discussed', 5),\n",
       " ('[', 5),\n",
       " ('topics', 5),\n",
       " ('share', 5),\n",
       " ('g', 5),\n",
       " ('hits', 5),\n",
       " ('vfd', 5),\n",
       " ('mine', 5),\n",
       " ('dead', 5),\n",
       " ('total', 5),\n",
       " ('c', 5),\n",
       " ('shawn', 5),\n",
       " ('michaels', 5),\n",
       " ('return', 5),\n",
       " ('looking', 5),\n",
       " ('abused', 5),\n",
       " ('along', 5),\n",
       " ('play', 5),\n",
       " ('noticed', 5),\n",
       " ('removing', 5),\n",
       " ('result', 5),\n",
       " ('subject', 5),\n",
       " ('moment', 5),\n",
       " ('citation', 5),\n",
       " ('conversation', 5),\n",
       " ('spending', 5),\n",
       " ('close', 5),\n",
       " ('full', 5),\n",
       " ('%', 5),\n",
       " ('open', 5),\n",
       " ('regarding', 5),\n",
       " ('?!', 5),\n",
       " ('public', 5),\n",
       " ('global', 5),\n",
       " ('markets', 5),\n",
       " ('crisis', 5),\n",
       " ('huge', 5),\n",
       " ('jones', 5),\n",
       " ('action', 5),\n",
       " ('exist', 5),\n",
       " ('placed', 5),\n",
       " ('away', 5),\n",
       " ('harry', 5),\n",
       " ('australia', 5),\n",
       " ('submission', 5),\n",
       " ('community', 5),\n",
       " ('avoid', 5),\n",
       " ('்.', 5),\n",
       " ('super', 5),\n",
       " ('review', 5),\n",
       " ('fat', 5),\n",
       " ('fun', 5),\n",
       " ('justify', 5),\n",
       " ('threatening', 5),\n",
       " ('designed', 5),\n",
       " ('horn', 5),\n",
       " ('mckay', 5),\n",
       " ('border', 5),\n",
       " ('sahrawi', 5)]"
      ]
     },
     "execution_count": 53,
     "metadata": {},
     "output_type": "execute_result"
    }
   ],
   "source": [
    "[i for i in idf_voc]"
   ]
  },
  {
   "cell_type": "code",
   "execution_count": 39,
   "metadata": {},
   "outputs": [],
   "source": [
    "idf = OrderedDict()\n",
    "tfidf_vocabulary = []\n",
    "alpha = 1\n",
    "for word in bow_vocabulary:\n",
    "    doc_count = 0\n",
    "    for text in texts_train:\n",
    "        if word in text:\n",
    "            doc_count += 1\n",
    "    idf[word] = np.log(len(texts_train) / (doc_count + alpha))"
   ]
  },
  {
   "cell_type": "code",
   "execution_count": 40,
   "metadata": {},
   "outputs": [],
   "source": [
    "def text_to_tfidf(text, idf=idf, min_count = 5, normalize=False):\n",
    "    res = np.zeros(len(idf), dtype='float32')\n",
    "    tokens = tokenizer.tokenize(text)\n",
    "    for word, count in Counter(tokens).items():\n",
    "#         if word in idf and count >= min_count:\n",
    "        if word in idf:\n",
    "            res[list(idf).index(word)] = (count / len(tokens)) * idf[word]\n",
    "    \n",
    "    if normalize and np.linalg.norm(res):\n",
    "        res /= np.linalg.norm(res)\n",
    "        \n",
    "    return res"
   ]
  },
  {
   "cell_type": "code",
   "execution_count": 41,
   "metadata": {},
   "outputs": [],
   "source": [
    "X_train_tfidf = np.stack(list(map(text_to_tfidf, texts_train)))\n",
    "X_test_tfidf = np.stack(list(map(text_to_tfidf, texts_test)))"
   ]
  },
  {
   "cell_type": "code",
   "execution_count": 42,
   "metadata": {},
   "outputs": [
    {
     "data": {
      "image/png": "[encoded data removed]",
      "text/plain": [
       "<Figure size 432x288 with 1 Axes>"
      ]
     },
     "metadata": {
      "needs_background": "light"
     },
     "output_type": "display_data"
    }
   ],
   "source": [
    "from sklearn.metrics import roc_auc_score, roc_curve\n",
    "\n",
    "tfidf_model = LogisticRegression(solver='liblinear').fit(X_train_tfidf, y_train)\n",
    "for name, X, y, model in [\n",
    "    ('train_bow  ', X_train_bow_sc, y_train, bow_sc_model),\n",
    "    ('test_bow   ', X_test_bow_sc, y_test, bow_sc_model),\n",
    "    ('train_tfidf', X_train_tfidf, y_train, tfidf_model),\n",
    "    ('test_tfidf ', X_test_tfidf, y_test, tfidf_model)\n",
    "]:\n",
    "    proba = model.predict_proba(X)[:, 1]\n",
    "    auc = roc_auc_score(y, proba)\n",
    "    plt.plot(*roc_curve(y, proba)[:2], label='%s AUC=%.4f' % (name, auc))\n",
    "\n",
    "plt.plot([0, 1], [0, 1], '--', color='black',)\n",
    "plt.legend(fontsize='large')\n",
    "plt.grid()"
   ]
  },
  {
   "cell_type": "markdown",
   "metadata": {},
   "source": [
    "Let's try to improve our TF-IDF"
   ]
  },
  {
   "cell_type": "code",
   "execution_count": 24,
   "metadata": {},
   "outputs": [],
   "source": [
    "stopwords = ['a', 'an', 'the', 'and', 'but', 'which', 'in', 'of', 'that', 'is', '.', ',']\n",
    "\n",
    "idf = OrderedDict()\n",
    "alpha = 1\n",
    "for word in bow_vocabulary:\n",
    "    if word not in stopwords:\n",
    "        doc_count = 0\n",
    "        for text in texts_train:\n",
    "            if word in text:\n",
    "                doc_count += 1\n",
    "        idf[word] = np.log(len(texts_train) / (doc_count + alpha))"
   ]
  },
  {
   "cell_type": "code",
   "execution_count": 25,
   "metadata": {},
   "outputs": [],
   "source": [
    "X_train_tfidf = np.stack(list(map(text_to_tfidf, texts_train)))\n",
    "X_test_tfidf = np.stack(list(map(text_to_tfidf, texts_test)))"
   ]
  },
  {
   "cell_type": "code",
   "execution_count": 26,
   "metadata": {},
   "outputs": [
    {
     "data": {
      "image/png": "[encoded data removed]",
      "text/plain": [
       "<Figure size 432x288 with 1 Axes>"
      ]
     },
     "metadata": {
      "needs_background": "light"
     },
     "output_type": "display_data"
    }
   ],
   "source": [
    "from sklearn.metrics import roc_auc_score, roc_curve\n",
    "\n",
    "tfidf_stop_model = LogisticRegression(solver='liblinear').fit(X_train_tfidf, y_train)\n",
    "for name, X, y, model in [\n",
    "    ('train orig   ', X_train_tfidf, y_train, tfidf_model),\n",
    "    ('test orig    ', X_test_tfidf, y_test, tfidf_model),\n",
    "    ('train stopwrd', X_train_tfidf, y_train, tfidf_stop_model),\n",
    "    ('test stopwrd ', X_test_tfidf, y_test, tfidf_stop_model)\n",
    "]:\n",
    "    proba = model.predict_proba(X)[:, 1]\n",
    "    auc = roc_auc_score(y, proba)\n",
    "    plt.plot(*roc_curve(y, proba)[:2], label='%s AUC=%.4f' % (name, auc))\n",
    "\n",
    "plt.plot([0, 1], [0, 1], '--', color='black',)\n",
    "plt.legend(fontsize='large')\n",
    "plt.grid()"
   ]
  },
  {
   "cell_type": "markdown",
   "metadata": {},
   "source": [
    "No differnce, let's apply scaling"
   ]
  },
  {
   "cell_type": "code",
   "execution_count": 27,
   "metadata": {},
   "outputs": [
    {
     "ename": "NameError",
     "evalue": "name 'scaler' is not defined",
     "output_type": "error",
     "traceback": [
      "\u001b[0;31m---------------------------------------------------------------------------\u001b[0m",
      "\u001b[0;31mNameError\u001b[0m                                 Traceback (most recent call last)",
      "\u001b[0;32m<ipython-input-27-b6d12943ed1d>\u001b[0m in \u001b[0;36m<module>\u001b[0;34m\u001b[0m\n\u001b[0;32m----> 1\u001b[0;31m \u001b[0mX_train_tfidf_sc\u001b[0m \u001b[0;34m=\u001b[0m \u001b[0mscaler\u001b[0m\u001b[0;34m.\u001b[0m\u001b[0mfit_transform\u001b[0m\u001b[0;34m(\u001b[0m\u001b[0mnp\u001b[0m\u001b[0;34m.\u001b[0m\u001b[0mstack\u001b[0m\u001b[0;34m(\u001b[0m\u001b[0mlist\u001b[0m\u001b[0;34m(\u001b[0m\u001b[0mmap\u001b[0m\u001b[0;34m(\u001b[0m\u001b[0mtext_to_tfidf\u001b[0m\u001b[0;34m,\u001b[0m \u001b[0mtexts_train\u001b[0m\u001b[0;34m)\u001b[0m\u001b[0;34m)\u001b[0m\u001b[0;34m)\u001b[0m\u001b[0;34m)\u001b[0m\u001b[0;34m\u001b[0m\u001b[0;34m\u001b[0m\u001b[0m\n\u001b[0m\u001b[1;32m      2\u001b[0m \u001b[0mX_test_tfidf_sc\u001b[0m \u001b[0;34m=\u001b[0m \u001b[0mscaler\u001b[0m\u001b[0;34m.\u001b[0m\u001b[0mtransform\u001b[0m\u001b[0;34m(\u001b[0m\u001b[0mnp\u001b[0m\u001b[0;34m.\u001b[0m\u001b[0mstack\u001b[0m\u001b[0;34m(\u001b[0m\u001b[0mlist\u001b[0m\u001b[0;34m(\u001b[0m\u001b[0mmap\u001b[0m\u001b[0;34m(\u001b[0m\u001b[0mtext_to_tfidf\u001b[0m\u001b[0;34m,\u001b[0m \u001b[0mtexts_test\u001b[0m\u001b[0;34m)\u001b[0m\u001b[0;34m)\u001b[0m\u001b[0;34m)\u001b[0m\u001b[0;34m)\u001b[0m\u001b[0;34m\u001b[0m\u001b[0;34m\u001b[0m\u001b[0m\n",
      "\u001b[0;31mNameError\u001b[0m: name 'scaler' is not defined"
     ]
    }
   ],
   "source": [
    "X_train_tfidf_sc = scaler.fit_transform(np.stack(list(map(text_to_tfidf, texts_train))))\n",
    "X_test_tfidf_sc = scaler.transform(np.stack(list(map(text_to_tfidf, texts_test))))"
   ]
  },
  {
   "cell_type": "code",
   "execution_count": null,
   "metadata": {
    "scrolled": true
   },
   "outputs": [],
   "source": [
    "from sklearn.metrics import roc_auc_score, roc_curve\n",
    "\n",
    "tfidf_sc_model = LogisticRegression(solver='liblinear').fit(X_train_tfidf_sc, y_train)\n",
    "bow_model = LogisticRegression(solver='liblinear').fit(X_train_bow, y_train)\n",
    "for name, X, y, model in [\n",
    "    ('train_bow  ', X_train_bow, y_train, bow_model),\n",
    "    ('test_bow   ', X_test_bow, y_test, bow_model),\n",
    "    ('train_tfidf', X_train_tfidf_sc, y_train, tfidf_sc_model),\n",
    "    ('test_tfidf ', X_test_tfidf_sc, y_test, tfidf_sc_model)\n",
    "]:\n",
    "    proba = model.predict_proba(X)[:, 1]\n",
    "    auc = roc_auc_score(y, proba)\n",
    "    plt.plot(*roc_curve(y, proba)[:2], label='%s AUC=%.4f' % (name, auc))\n",
    "\n",
    "plt.plot([0, 1], [0, 1], '--', color='black',)\n",
    "plt.legend(fontsize='large')\n",
    "plt.grid()"
   ]
  },
  {
   "cell_type": "markdown",
   "metadata": {},
   "source": [
    "Ok, let's try normalization again"
   ]
  },
  {
   "cell_type": "code",
   "execution_count": 28,
   "metadata": {},
   "outputs": [],
   "source": [
    "X_train_tfidf_norm = np.stack(list(map(lambda x: text_to_tfidf(x, normalize=True), texts_train)))\n",
    "X_test_tfidf_norm = np.stack(list(map(lambda x: text_to_tfidf(x, normalize=True), texts_test)))"
   ]
  },
  {
   "cell_type": "code",
   "execution_count": 29,
   "metadata": {},
   "outputs": [
    {
     "data": {
      "image/png": "[encoded data removed]",
      "text/plain": [
       "<Figure size 432x288 with 1 Axes>"
      ]
     },
     "metadata": {
      "needs_background": "light"
     },
     "output_type": "display_data"
    }
   ],
   "source": [
    "from sklearn.metrics import roc_auc_score, roc_curve\n",
    "\n",
    "tfidf_norm_model = LogisticRegression(solver='liblinear').fit(X_train_tfidf_norm, y_train)\n",
    "# bow_model = LogisticRegression(solver='liblinear').fit(X_train_bow_sc, y_train)\n",
    "for name, X, y, model in [\n",
    "#     ('train_bow  ', X_train_bow_sc, y_train, bow_sc_model),\n",
    "    ('test_bow   ', X_test_bow_sc, y_test, bow_sc_model),\n",
    "#     ('train_tfidf', X_train_tfidf_norm, y_train, tfidf_norm_model),\n",
    "    ('test_tfidf ', X_test_tfidf_norm, y_test, tfidf_norm_model)\n",
    "]:\n",
    "    proba = model.predict_proba(X)[:, 1]\n",
    "    auc = roc_auc_score(y, proba)\n",
    "    plt.plot(*roc_curve(y, proba)[:2], label='%s AUC=%.4f' % (name, auc))\n",
    "\n",
    "plt.plot([0, 1], [0, 1], '--', color='black',)\n",
    "plt.legend(fontsize='large')\n",
    "plt.grid()"
   ]
  },
  {
   "cell_type": "markdown",
   "metadata": {},
   "source": [
    "Now, GS over normalized tf-idf vectors"
   ]
  },
  {
   "cell_type": "code",
   "execution_count": 30,
   "metadata": {},
   "outputs": [
    {
     "name": "stdout",
     "output_type": "stream",
     "text": [
      "Fitting 7 folds for each of 40 candidates, totalling 280 fits\n"
     ]
    },
    {
     "name": "stderr",
     "output_type": "stream",
     "text": [
      "[Parallel(n_jobs=-1)]: Using backend LokyBackend with 8 concurrent workers.\n",
      "[Parallel(n_jobs=-1)]: Done  16 tasks      | elapsed:    0.3s\n",
      "[Parallel(n_jobs=-1)]: Done 280 out of 280 | elapsed:    4.0s finished\n"
     ]
    },
    {
     "data": {
      "text/plain": [
       "(LogisticRegression(C=40.296113202004, class_weight=None, dual=False,\n",
       "           fit_intercept=True, intercept_scaling=1, max_iter=500,\n",
       "           multi_class='warn', n_jobs=None, penalty='l2', random_state=None,\n",
       "           solver='liblinear', tol=0.0001, verbose=0, warm_start=False), 0.818)"
      ]
     },
     "execution_count": 30,
     "metadata": {},
     "output_type": "execute_result"
    }
   ],
   "source": [
    "from sklearn.model_selection import GridSearchCV, StratifiedKFold\n",
    "cv = StratifiedKFold(n_splits=7, shuffle=True, random_state=42)\n",
    "clf = LogisticRegression(solver='liblinear', max_iter=500)\n",
    "param_grid = {\n",
    "    'C' : np.logspace(1.5, 2, 20),\n",
    "    'penalty' : ['l1', 'l2']\n",
    "}\n",
    "\n",
    "gs = GridSearchCV(clf, param_grid, scoring='accuracy', n_jobs=-1, cv=cv, verbose=3)\n",
    "gs.fit(X_train_tfidf_norm, y_train)\n",
    "gs.best_estimator_, gs.best_score_"
   ]
  },
  {
   "cell_type": "code",
   "execution_count": 31,
   "metadata": {},
   "outputs": [
    {
     "data": {
      "image/png": "[encoded data removed]",
      "text/plain": [
       "<Figure size 432x288 with 1 Axes>"
      ]
     },
     "metadata": {
      "needs_background": "light"
     },
     "output_type": "display_data"
    }
   ],
   "source": [
    "from sklearn.metrics import roc_auc_score, roc_curve\n",
    "\n",
    "tfidf_norm_model = gs.best_estimator_.fit(X_train_tfidf_norm, y_train)\n",
    "for name, X, y, model in [\n",
    "    ('bow train  ', X_train_bow_sc, y_train, bow_sc_model),\n",
    "    ('bow test   ', X_test_bow_sc, y_test, bow_sc_model),\n",
    "    ('tfidf train', X_train_tfidf_norm, y_train, tfidf_norm_model),\n",
    "    ('tfidf test ', X_test_tfidf_norm, y_test, tfidf_norm_model),\n",
    "]:\n",
    "    proba = model.predict_proba(X)[:, 1]\n",
    "    auc = roc_auc_score(y, proba)\n",
    "    plt.plot(*roc_curve(y, proba)[:2], label='%s AUC=%.4f' % (name, auc))\n",
    "\n",
    "plt.plot([0, 1], [0, 1], '--', color='black',)\n",
    "plt.legend(fontsize='large')\n",
    "plt.grid()"
   ]
  },
  {
   "cell_type": "markdown",
   "metadata": {},
   "source": [
    "Accuracy about 0.9 sounds great)"
   ]
  },
  {
   "cell_type": "markdown",
   "metadata": {},
   "source": [
    "### Part 2: gradient boosting (4 points)\n",
    "\n",
    "Here we will work with widely known Human Actividy Recognition (HAR) dataset. Data is available at [UCI repository](https://archive.ics.uci.edu/ml/datasets/human+activity+recognition+using+smartphones). Download it and place in `data/` folder in the same directory as this notebook. There are available both raw and preprocessed datasets. This time we will use the preprocessed one.\n",
    "\n",
    "First you are required to choose one of the main gradient boosting frameworks:\n",
    "1. LightGBM by Microsoft. [Link to github](https://github.com/Microsoft/LightGBM). One of the most popular frameworks these days that shows both great quality and performance.\n",
    "2. xgboost by dlmc. [Link to github](https://github.com/dmlc/xgboost). The most famous framework which got very popular on kaggle.\n",
    "3. Catboost by Yandex. [Link to github](https://github.com/catboost/catboost). Novel framework by Yandex company tuned to deal well with categorical features. It's quite new, but if you wish to use it - you are welcome.\n",
    "\n",
    "Some simple preprocessing is done for you. \n",
    "\n",
    "Your __ultimate target is to get familiar with one of the frameworks above__ and achieve at least 85% accuracy on test dataset."
   ]
  },
  {
   "cell_type": "code",
   "execution_count": null,
   "metadata": {},
   "outputs": [],
   "source": [
    "import matplotlib.pyplot as plt\n",
    "from sklearn.decomposition import PCA"
   ]
  },
  {
   "cell_type": "code",
   "execution_count": null,
   "metadata": {},
   "outputs": [],
   "source": [
    "X_train = np.genfromtxt('data/train/X_train.txt')\n",
    "y_train = np.genfromtxt('data/train/y_train.txt')\n",
    "\n",
    "X_test = np.genfromtxt('data/test/X_test.txt')\n",
    "y_test = np.genfromtxt('data/test/y_test.txt')\n",
    "\n",
    "with open('data/activity_labels.txt', 'r') as iofile:\n",
    "    activity_labels = iofile.readlines()\n",
    "\n",
    "activity_labels = [x.replace('\\n', '').split(' ') for x in activity_labels]\n",
    "activity_labels = dict([(int(x[0]), x[1]) for x in activity_labels])"
   ]
  },
  {
   "cell_type": "code",
   "execution_count": null,
   "metadata": {},
   "outputs": [],
   "source": [
    "activity_labels"
   ]
  },
  {
   "cell_type": "code",
   "execution_count": null,
   "metadata": {},
   "outputs": [],
   "source": [
    "print(X_train.shape)\n",
    "data_mean = X_train.mean(axis=0)\n",
    "data_std = X_train.std(axis=0)\n",
    "\n",
    "X_train = (X_train - data_mean)/data_std\n",
    "X_test = (X_test - data_mean)/data_std"
   ]
  },
  {
   "cell_type": "markdown",
   "metadata": {},
   "source": [
    "The dataset has some duplicating features. File `unique_columns.txt` stores the indices of the unique ones. "
   ]
  },
  {
   "cell_type": "code",
   "execution_count": null,
   "metadata": {},
   "outputs": [],
   "source": [
    "unique_columns = np.genfromtxt('unique_columns.txt', delimiter=',').astype(int)\n",
    "X_train_unique = X_train[:, unique_columns]\n",
    "X_test_unique = X_test[:, unique_columns]"
   ]
  },
  {
   "cell_type": "markdown",
   "metadata": {},
   "source": [
    "PCA could be useful in this case. E.g."
   ]
  },
  {
   "cell_type": "code",
   "execution_count": null,
   "metadata": {},
   "outputs": [],
   "source": [
    "pca = PCA(0.99)"
   ]
  },
  {
   "cell_type": "code",
   "execution_count": null,
   "metadata": {},
   "outputs": [],
   "source": [
    "X_train_pca = pca.fit_transform(X_train_unique)\n",
    "X_test_pca = pca.transform(X_test_unique)"
   ]
  },
  {
   "cell_type": "code",
   "execution_count": null,
   "metadata": {},
   "outputs": [],
   "source": [
    "X_train_pca.shape"
   ]
  },
  {
   "cell_type": "code",
   "execution_count": null,
   "metadata": {},
   "outputs": [],
   "source": [
    "X_test_pca.shape"
   ]
  },
  {
   "cell_type": "code",
   "execution_count": null,
   "metadata": {},
   "outputs": [],
   "source": [
    "plt.scatter(X_train_pca[:1000, 0], X_train_pca[:1000, 1], c=y_train[:1000])\n",
    "plt.grid()\n",
    "plt.xlabel('Principal component 1')\n",
    "plt.ylabel('Principal component 2')"
   ]
  },
  {
   "cell_type": "code",
   "execution_count": null,
   "metadata": {},
   "outputs": [],
   "source": [
    "plt.scatter(X_train_pca[:1000, 3], X_train_pca[:1000, 4], c=y_train[:1000])\n",
    "plt.grid()\n",
    "plt.xlabel('Principal component 4')\n",
    "plt.ylabel('Principal component 5')"
   ]
  },
  {
   "cell_type": "markdown",
   "metadata": {},
   "source": [
    "Despite optimal parameters (e.g. for xgboost) can be found on the web, we still want you to use grid/random search (or any other approach) to approximate them by yourself."
   ]
  },
  {
   "cell_type": "code",
   "execution_count": null,
   "metadata": {},
   "outputs": [],
   "source": [
    "# Your code here.\n",
    "\n",
    "### Example: https://rpubs.com/burakh/har_xgb"
   ]
  },
  {
   "cell_type": "code",
   "execution_count": null,
   "metadata": {},
   "outputs": [],
   "source": [
    "import warnings\n",
    "warnings.filterwarnings('ignore')"
   ]
  },
  {
   "cell_type": "code",
   "execution_count": null,
   "metadata": {},
   "outputs": [],
   "source": [
    "clf.max_depth"
   ]
  },
  {
   "cell_type": "code",
   "execution_count": null,
   "metadata": {
    "scrolled": false
   },
   "outputs": [],
   "source": [
    "from lightgbm import LGBMClassifier\n",
    "from sklearn.metrics import accuracy_score\n",
    "from sklearn.model_selection import PredefinedSplit\n",
    "clf = LGBMClassifier(max_depth=7, n_jobs=4, num_iterations=500)\n",
    "cv = StratifiedKFold(n_splits=3)\n",
    "# cv = PredefinedSplit()\n",
    "param_grid = {\n",
    "    'max_bin' : [255, 512, 1024],\n",
    "    'learning_rate' : [0.05, 0.01],\n",
    "    \n",
    "#     'num_leaves' : [int(2**clf.max_depth * i) for i in np.linspace(0.2, 0.5, 5)],\n",
    "#     'num_leaves' : [25],\n",
    "#     'min_data_in_leaf' : [int(i) for i in np.linspace(20, 100, 5)]\n",
    "#     'learning_rate' : np.logspace(-2, 0, 10),\n",
    "#     'n_estimators' : [100]\n",
    "}\n",
    "gs = GridSearchCV(estimator=clf, cv=cv, param_grid=param_grid, verbose=3, iid=True, n_jobs=4)\n",
    "gs.fit(X_train_pca, y_train)\n",
    "gs.best_estimator_, gs.best_score_\n",
    "# clf.fit(X_train_pca, y_train)\n",
    "# accuracy_score(y_test, clf.predict(X_test_pca))"
   ]
  },
  {
   "cell_type": "code",
   "execution_count": null,
   "metadata": {},
   "outputs": [],
   "source": [
    "from sklearn.model_selection import RandomizedSearchCV\n",
    "clf = LGBMClassifier(max_depth=7, n_jobs=4, num_iterations=300)\n",
    "cv = StratifiedKFold(n_splits=3)\n",
    "# cv = PredefinedSplit()\n",
    "param_grid = {\n",
    "    'max_bin' : [255, 512, 1024],\n",
    "    'learning_rate' : [0.05, 0.01],\n",
    "    'num_leaves' : [int(2**clf.max_depth * i) for i in np.linspace(0.3, 0.7, 5)],\n",
    "    'max_depth' : [7, 12, 15, -1],\n",
    "#     'num_leaves' : [25],\n",
    "    'min_data_in_leaf' : [int(i) for i in np.logspace(1.5, 3, 5)],\n",
    "#     'learning_rate' : np.logspace(-2, 0, 10),\n",
    "    'n_estimators' : [100, 300, 500]\n",
    "}\n",
    "rs = RandomizedSearchCV(estimator=clf, cv=cv, param_distributions=param_grid, verbose=3, iid=True, n_jobs=4)\n",
    "rs.fit(X_train_pca, y_train)\n",
    "rs.best_estimator_, rs.best_score_"
   ]
  },
  {
   "cell_type": "code",
   "execution_count": null,
   "metadata": {},
   "outputs": [],
   "source": [
    "lgbm = rs.best_estimator_.fit(X_train_pca, y_train)\n",
    "accuracy_score(y_test, lgbm.predict(X_test_pca))"
   ]
  },
  {
   "cell_type": "code",
   "execution_count": null,
   "metadata": {},
   "outputs": [],
   "source": [
    "from sklearn.metrics import f1_score\n",
    "f1_score(y_test, lgbm.predict(X_test_pca), average=None)"
   ]
  },
  {
   "cell_type": "code",
   "execution_count": null,
   "metadata": {},
   "outputs": [],
   "source": []
  }
 ],
 "metadata": {
  "kernelspec": {
   "display_name": "Python 3",
   "language": "python",
   "name": "python3"
  },
  "language_info": {
   "codemirror_mode": {
    "name": "ipython",
    "version": 3
   },
   "file_extension": ".py",
   "mimetype": "text/x-python",
   "name": "python",
   "nbconvert_exporter": "python",
   "pygments_lexer": "ipython3",
   "version": "3.6.8"
  }
 },
 "nbformat": 4,
 "nbformat_minor": 2
}
